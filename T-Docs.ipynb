{
 "cells": [
  {
   "cell_type": "code",
   "execution_count": 34,
   "id": "9ecd8b0b-ae69-4fbd-802a-ef5ba26ae489",
   "metadata": {
    "tags": []
   },
   "outputs": [],
   "source": [
    "import requests\n",
    "import pandas as pd\n",
    "from bs4 import BeautifulSoup"
   ]
  },
  {
   "cell_type": "code",
   "execution_count": 2,
   "id": "12784642-4e59-4444-b110-5cad39523fcf",
   "metadata": {
    "tags": []
   },
   "outputs": [],
   "source": [
    "response = requests.get(\"https://www.treasury.go.ke/legal-and-gazette-notices/\")"
   ]
  },
  {
   "cell_type": "code",
   "execution_count": 28,
   "id": "e8f2f985-28ed-41a5-9e8f-9283ff690013",
   "metadata": {
    "tags": []
   },
   "outputs": [],
   "source": [
    "pages = [page_link.attrs[\"href\"] for page_link in soup.find('div', id=\"main-sidebar-menu\").find_all('a')]"
   ]
  },
  {
   "cell_type": "code",
   "execution_count": 32,
   "id": "388d9d2b-163e-4910-9e73-6d5f35952fea",
   "metadata": {
    "tags": []
   },
   "outputs": [
    {
     "ename": "AttributeError",
     "evalue": "'NoneType' object has no attribute 'find_all'",
     "output_type": "error",
     "traceback": [
      "\u001b[1;31m---------------------------------------------------------------------------\u001b[0m",
      "\u001b[1;31mAttributeError\u001b[0m                            Traceback (most recent call last)",
      "Cell \u001b[1;32mIn[32], line 9\u001b[0m\n\u001b[0;32m      6\u001b[0m soup \u001b[38;5;241m=\u001b[39m BeautifulSoup(html, \u001b[38;5;124m\"\u001b[39m\u001b[38;5;124mhtml.parser\u001b[39m\u001b[38;5;124m\"\u001b[39m)\n\u001b[0;32m      7\u001b[0m doc_div \u001b[38;5;241m=\u001b[39m soup\u001b[38;5;241m.\u001b[39mfind(\u001b[38;5;124m'\u001b[39m\u001b[38;5;124mdiv\u001b[39m\u001b[38;5;124m'\u001b[39m, class_\u001b[38;5;241m=\u001b[39m\u001b[38;5;124m\"\u001b[39m\u001b[38;5;124mwpb_text_column wpb_content_element\u001b[39m\u001b[38;5;124m\"\u001b[39m)\n\u001b[0;32m      8\u001b[0m articles\u001b[38;5;241m.\u001b[39mextend(\n\u001b[1;32m----> 9\u001b[0m     [(article\u001b[38;5;241m.\u001b[39mtext, article\u001b[38;5;241m.\u001b[39mattrs[\u001b[38;5;124m\"\u001b[39m\u001b[38;5;124mhref\u001b[39m\u001b[38;5;124m\"\u001b[39m]) \u001b[38;5;28;01mfor\u001b[39;00m article \u001b[38;5;129;01min\u001b[39;00m \u001b[43mdoc_div\u001b[49m\u001b[38;5;241;43m.\u001b[39;49m\u001b[43mfind_all\u001b[49m(\u001b[38;5;124m'\u001b[39m\u001b[38;5;124ma\u001b[39m\u001b[38;5;124m'\u001b[39m)]\n\u001b[0;32m     10\u001b[0m )\n",
      "\u001b[1;31mAttributeError\u001b[0m: 'NoneType' object has no attribute 'find_all'"
     ]
    }
   ],
   "source": [
    "articles = []\n",
    "for page_link in pages:\n",
    "    response = requests.get(page_link)\n",
    "    if response.status_code == 200:\n",
    "        html = response.content\n",
    "        soup = BeautifulSoup(html, \"html.parser\")\n",
    "        doc_div = soup.find('div', class_=\"wpb_text_column wpb_content_element\")\n",
    "        articles.extend(\n",
    "            [(article.text, article.attrs[\"href\"]) for article in doc_div.find_all('a') if doc_div is not None]\n",
    "        )"
   ]
  },
  {
   "cell_type": "code",
   "execution_count": 37,
   "id": "84094945-2b09-4359-9d0d-ea4a24fdf1e2",
   "metadata": {
    "tags": []
   },
   "outputs": [],
   "source": [
    "df = pd.DataFrame(articles, columns=[\"title\", \"url\"])"
   ]
  },
  {
   "cell_type": "code",
   "execution_count": 38,
   "id": "c028e2df-3d9d-4eb9-8e1c-7392a36c1ddb",
   "metadata": {
    "tags": []
   },
   "outputs": [],
   "source": [
    "df.to_csv(\"data/articles.csv\", index=False)"
   ]
  },
  {
   "cell_type": "code",
   "execution_count": 41,
   "id": "b6a7754c-0f0d-44c4-9628-e6a933747acd",
   "metadata": {
    "tags": []
   },
   "outputs": [
    {
     "data": {
      "text/html": [
       "<div>\n",
       "<style scoped>\n",
       "    .dataframe tbody tr th:only-of-type {\n",
       "        vertical-align: middle;\n",
       "    }\n",
       "\n",
       "    .dataframe tbody tr th {\n",
       "        vertical-align: top;\n",
       "    }\n",
       "\n",
       "    .dataframe thead th {\n",
       "        text-align: right;\n",
       "    }\n",
       "</style>\n",
       "<table border=\"1\" class=\"dataframe\">\n",
       "  <thead>\n",
       "    <tr style=\"text-align: right;\">\n",
       "      <th></th>\n",
       "      <th>title</th>\n",
       "      <th>url</th>\n",
       "    </tr>\n",
       "  </thead>\n",
       "  <tbody>\n",
       "  </tbody>\n",
       "</table>\n",
       "</div>"
      ],
      "text/plain": [
       "Empty DataFrame\n",
       "Columns: [title, url]\n",
       "Index: []"
      ]
     },
     "execution_count": 41,
     "metadata": {},
     "output_type": "execute_result"
    }
   ],
   "source": [
    "df[df.title.str.contains(\"taita\")]"
   ]
  },
  {
   "cell_type": "code",
   "execution_count": 43,
   "id": "8fb71bf3-db94-430b-ae07-45d5a5766ac8",
   "metadata": {
    "tags": []
   },
   "outputs": [],
   "source": [
    "df = pd.read_csv(\"data/articles.csv\")"
   ]
  },
  {
   "cell_type": "code",
   "execution_count": 46,
   "id": "f8f0b925-959d-4db9-a292-8b5fb26e9cb6",
   "metadata": {
    "tags": []
   },
   "outputs": [],
   "source": []
  },
  {
   "cell_type": "code",
   "execution_count": 48,
   "id": "9e8ca119-b1a3-4b55-b668-9c581003d901",
   "metadata": {
    "tags": []
   },
   "outputs": [
    {
     "name": "stdout",
     "output_type": "stream",
     "text": [
      "title                  Public Private Partnership Act 2021\n",
      "url      https://www.treasury.go.ke/wp-content/uploads/...\n",
      "Name: 0, dtype: object\n",
      "title       Public Procurement and Asset Disposal Act 2015\n",
      "url      https://www.treasury.go.ke/wp-content/uploads/...\n",
      "Name: 1, dtype: object\n",
      "title                   Public Finance Management Act 2012\n",
      "url      https://www.treasury.go.ke/wp-content/uploads/...\n",
      "Name: 2, dtype: object\n",
      "title                        Persons with Disabilities Act\n",
      "url      https://www.treasury.go.ke/wp-content/uploads/...\n",
      "Name: 3, dtype: object\n",
      "title                                 Pensions Act CAP 189\n",
      "url      https://www.treasury.go.ke/wp-content/uploads/...\n",
      "Name: 4, dtype: object\n",
      "title                                   Agreement Document\n",
      "url       https://www.treasury.go.ke/wp-content/uploads...\n",
      "Name: 5, dtype: object\n",
      "title                                   Agreement Document\n",
      "url       https://www.treasury.go.ke/wp-content/uploads...\n",
      "Name: 6, dtype: object\n",
      "title                                   Agreement Document\n",
      "url       https://www.treasury.go.ke/wp-content/uploads...\n",
      "Name: 7, dtype: object\n",
      "title                                   Agreement Document\n",
      "url       https://www.treasury.go.ke/wp-content/uploads...\n",
      "Name: 8, dtype: object\n",
      "title                                   Agreement Document\n",
      "url       https://www.treasury.go.ke/wp-content/uploads...\n",
      "Name: 9, dtype: object\n",
      "title                                   Agreement Document\n",
      "url      https://www.treasury.go.ke/wp-content/uploads/...\n",
      "Name: 10, dtype: object\n",
      "title                                   Agreement Document\n",
      "url       https://www.treasury.go.ke/wp-content/uploads...\n",
      "Name: 11, dtype: object\n",
      "title                                         Legal Notice\n",
      "url       https://www.treasury.go.ke/wp-content/uploads...\n",
      "Name: 12, dtype: object\n",
      "title                                   Agreement Document\n",
      "url       https://www.treasury.go.ke/wp-content/uploads...\n",
      "Name: 13, dtype: object\n",
      "title                                   Agreement Document\n",
      "url       https://www.treasury.go.ke/wp-content/uploads...\n",
      "Name: 14, dtype: object\n",
      "title                                   Agreement Document\n",
      "url      https://www.treasury.go.ke/wp-content/uploads/...\n",
      "Name: 15, dtype: object\n",
      "title                                   Agreement Document\n",
      "url       https://www.treasury.go.ke/wp-content/uploads...\n",
      "Name: 16, dtype: object\n",
      "title                                   Agreement Document\n",
      "url       https://www.treasury.go.ke/wp-content/uploads...\n",
      "Name: 17, dtype: object\n",
      "title                                   Agreement Document\n",
      "url       https://www.treasury.go.ke/wp-content/uploads...\n",
      "Name: 18, dtype: object\n",
      "title                                   Agreement Document\n",
      "url       https://www.treasury.go.ke/wp-content/uploads...\n",
      "Name: 19, dtype: object\n",
      "title                                   Agreement Document\n",
      "url       https://www.treasury.go.ke/wp-content/uploads...\n",
      "Name: 20, dtype: object\n",
      "title                                   Agreement Document\n",
      "url       https://www.treasury.go.ke/wp-content/uploads...\n",
      "Name: 21, dtype: object\n",
      "title                                   Agreement Document\n",
      "url       https://www.treasury.go.ke/wp-content/uploads...\n",
      "Name: 22, dtype: object\n",
      "title                                   Agreement Document\n",
      "url       https://www.treasury.go.ke/wp-content/uploads...\n",
      "Name: 23, dtype: object\n",
      "title                                   Agreement Document\n",
      "url       https://www.treasury.go.ke/wp-content/uploads...\n",
      "Name: 24, dtype: object\n",
      "title                                   Agreement Document\n",
      "url       https://www.treasury.go.ke/wp-content/uploads...\n",
      "Name: 25, dtype: object\n",
      "title                                   Agreement Document\n",
      "url       https://www.treasury.go.ke/wp-content/uploads...\n",
      "Name: 26, dtype: object\n",
      "title                                   Agreement Document\n",
      "url       https://www.treasury.go.ke/wp-content/uploads...\n",
      "Name: 27, dtype: object\n",
      "title                             PDL_Governance_Framework\n",
      "url      https://www.treasury.go.ke/wp-content/uploads/...\n",
      "Name: 28, dtype: object\n",
      "title         P175017 SAFER Social Assessment March 6 2023\n",
      "url      https://www.treasury.go.ke/wp-content/uploads/...\n",
      "Name: 29, dtype: object\n",
      "title    P175017 SAFER Labor Management Procedure Revis...\n",
      "url      https://www.treasury.go.ke/wp-content/uploads/...\n",
      "Name: 30, dtype: object\n",
      "title    P175017 SAFER Gender Based Violence Action Pla...\n",
      "url      https://www.treasury.go.ke/wp-content/uploads/...\n",
      "Name: 31, dtype: object\n",
      "title    P175017 SAFER Environmental and Social Managem...\n",
      "url      https://www.treasury.go.ke/wp-content/uploads/...\n",
      "Name: 32, dtype: object\n",
      "title    LEGAL NOTICE – THE PFM (AMENDMENT)(COUNTY GOVE...\n",
      "url      https://www.treasury.go.ke/wp-content/uploads/...\n",
      "Name: 33, dtype: object\n",
      "title    LEGAL NOTICE – THE PFM (AMENDMENT)(NATIONAL) R...\n",
      "url      https://www.treasury.go.ke/wp-content/uploads/...\n",
      "Name: 34, dtype: object\n",
      "title         Gazette Notice – Regulatory Impact Statement\n",
      "url      https://www.treasury.go.ke/wp-content/uploads/...\n",
      "Name: 35, dtype: object\n",
      "title    Executive-Order-No.-1-of-2020-Reorganisation-o...\n",
      "url      https://www.treasury.go.ke/wp-content/uploads/...\n",
      "Name: 36, dtype: object\n",
      "title    National Government & County Governments (Amen...\n",
      "url      https://www.treasury.go.ke/wp-content/uploads/...\n",
      "Name: 37, dtype: object\n",
      "title    Published PIM Regulations: Legal Notice No. 54...\n",
      "url      https://www.treasury.go.ke/wp-content/uploads/...\n",
      "Name: 38, dtype: object\n",
      "title    PFM – (Financial Inclusion Fund) Regulation, 2...\n",
      "url      https://www.treasury.go.ke/wp-content/uploads/...\n",
      "Name: 39, dtype: object\n",
      "title                Amendments to PFM NG Regulations 2015\n",
      "url      https://www.treasury.go.ke/wp-content/uploads/...\n",
      "Name: 40, dtype: object\n",
      "title    Legal Notice No 155 – The Public Finance Manag...\n",
      "url      https://www.treasury.go.ke/wp-content/uploads/...\n",
      "Name: 41, dtype: object\n",
      "title             PFM Biashara Kenya Fund Regulations 2020\n",
      "url      https://www.treasury.go.ke/wp-content/uploads/...\n",
      "Name: 42, dtype: object\n",
      "title            PFM Uwezo FundRevocation Regulations 2020\n",
      "url      https://www.treasury.go.ke/wp-content/uploads/...\n",
      "Name: 43, dtype: object\n",
      "title    PFM Youth Enterprise Development Fund Revocati...\n",
      "url      https://www.treasury.go.ke/wp-content/uploads/...\n",
      "Name: 44, dtype: object\n",
      "title    Public Finance Management Women Enterprise Fun...\n",
      "url      https://www.treasury.go.ke/wp-content/uploads/...\n",
      "Name: 45, dtype: object\n",
      "title    Public Notice on Biashara Kenya Fund Regulatio...\n",
      "url      https://www.treasury.go.ke/wp-content/uploads/...\n",
      "Name: 46, dtype: object\n",
      "title    Regulatory Impact Statement on the Biashara Ke...\n",
      "url      https://www.treasury.go.ke/wp-content/uploads/...\n",
      "Name: 47, dtype: object\n",
      "title    Template for Receiving Comments-Biashara Fund ...\n",
      "url      https://www.treasury.go.ke/wp-content/uploads/...\n",
      "Name: 48, dtype: object\n",
      "title         PFM Credit Guarantee Scheme Regulations 2020\n",
      "url      https://www.treasury.go.ke/wp-content/uploads/...\n",
      "Name: 49, dtype: object\n",
      "title    Public Notice for Comments on PFM Credit Guara...\n",
      "url      https://www.treasury.go.ke/wp-content/uploads/...\n",
      "Name: 50, dtype: object\n",
      "title    Regulatory Impact Assessment of the PFM Credit...\n",
      "url      https://www.treasury.go.ke/wp-content/uploads/...\n",
      "Name: 51, dtype: object\n",
      "title    LEGAL NOTICE – PFM EQUALIZATION FUND REGULATIO...\n",
      "url      https://www.treasury.go.ke/wp-content/uploads/...\n",
      "Name: 52, dtype: object\n",
      "title    PUBLIC NOTICE – PFM EQUALIZATION FUND REGULATI...\n",
      "url      https://www.treasury.go.ke/wp-content/uploads/...\n",
      "Name: 53, dtype: object\n",
      "title    Template for Receiving Comments – PFM Equalisa...\n",
      "url      https://www.treasury.go.ke/wp-content/uploads/...\n",
      "Name: 54, dtype: object\n",
      "title                          NTF REGS – April 2020 DRAFT\n",
      "url      https://www.treasury.go.ke/wp-content/uploads/...\n",
      "Name: 55, dtype: object\n",
      "title    REGULATORY IMPACT STATEMENT ON THE NATIONAL TO...\n",
      "url      https://www.treasury.go.ke/wp-content/uploads/...\n",
      "Name: 56, dtype: object\n",
      "title    Draft PFM Social Assistance Fund Regulations 2019\n",
      "url      https://www.treasury.go.ke/wp-content/uploads/...\n",
      "Name: 57, dtype: object\n",
      "title    Public Notice _ Social Assistance Regulations ...\n",
      "url      https://www.treasury.go.ke/wp-content/uploads/...\n",
      "Name: 58, dtype: object\n",
      "title    Template for Receiving Comments-Social Assitan...\n",
      "url      https://www.treasury.go.ke/wp-content/uploads/...\n",
      "Name: 59, dtype: object\n",
      "title           PFM CHERRY REVOLVING FUND REGULATIONS 2019\n",
      "url      https://www.treasury.go.ke/wp-content/uploads/...\n",
      "Name: 60, dtype: object\n",
      "title    Public Notice _ Coffee Cherry Advance Fund Reg...\n",
      "url      https://www.treasury.go.ke/wp-content/uploads/...\n",
      "Name: 61, dtype: object\n",
      "title           Template for Receiving Comments 16.01.2020\n",
      "url      https://www.treasury.go.ke/wp-content/uploads/...\n",
      "Name: 62, dtype: object\n",
      "title    Explanatory Memorandum on Covid-19 ER Fund Reg...\n",
      "url      https://www.treasury.go.ke/wp-content/uploads/...\n",
      "Name: 63, dtype: object\n",
      "title      PFM COVID-19 Regulations 2020 Final Regulations\n",
      "url      https://www.treasury.go.ke/wp-content/uploads/...\n",
      "Name: 64, dtype: object\n",
      "title    Draft_Public_Finance Management Biashara Kenya...\n",
      "url      https://www.treasury.go.ke/wp-content/uploads/...\n",
      "Name: 65, dtype: object\n",
      "title    Revised National Government Affirmative Action...\n",
      "url      https://www.treasury.go.ke/wp-content/uploads/...\n",
      "Name: 66, dtype: object\n",
      "title    The National Treasury and Economic Planning St...\n",
      "url      https://www.treasury.go.ke/wp-content/uploads/...\n",
      "Name: 67, dtype: object\n",
      "title    THE NATIONAL TREASURY AND PLANNING STRATEGIC P...\n",
      "url      https://www.treasury.go.ke/wp-content/uploads/...\n",
      "Name: 68, dtype: object\n",
      "title    Revised Draft TNT&EP Citizens’ Service Deliver...\n",
      "url      https://www.treasury.go.ke/wp-content/uploads/...\n",
      "Name: 69, dtype: object\n",
      "title                    Service Charter – English Version\n",
      "url      https://www.treasury.go.ke/wp-content/uploads/...\n",
      "Name: 70, dtype: object\n",
      "title                  Service Charter – Kiswahili Version\n",
      "url      https://www.treasury.go.ke/wp-content/uploads/...\n",
      "Name: 71, dtype: object\n",
      "title    Strategy on Verification and Clearance of Pend...\n",
      "url      https://www.treasury.go.ke/wp-content/uploads/...\n",
      "Name: 72, dtype: object\n",
      "title                   Medium Term Revenue Strategy, 2023\n",
      "url      https://www.treasury.go.ke/wp-content/uploads/...\n",
      "Name: 73, dtype: object\n",
      "title                       IFMIS Strategic Plan 2022-2026\n",
      "url      https://www.treasury.go.ke/wp-content/uploads/...\n",
      "Name: 74, dtype: object\n",
      "title    2nd-AFRICA PEAR REVIEW MECHANISM-Country-Revie...\n",
      "url      https://www.treasury.go.ke/wp-content/uploads/...\n",
      "Name: 75, dtype: object\n",
      "title       14 10 14 Petition Committee Regulations 2014-1\n",
      "url      https://www.treasury.go.ke/wp-content/uploads/...\n",
      "Name: 76, dtype: object\n",
      "title                            Governance Strategy Paper\n",
      "url      https://www.treasury.go.ke/wp-content/uploads/...\n",
      "Name: 77, dtype: object\n",
      "title               PFMR STRATEGY 2018 -2023 PRINT VERSION\n",
      "url      https://www.treasury.go.ke/wp-content/uploads/...\n",
      "Name: 78, dtype: object\n",
      "title    THE NATIONAL TREASURY AND PLANNING STRATEGIC P...\n",
      "url      https://www.treasury.go.ke/wp-content/uploads/...\n",
      "Name: 79, dtype: object\n",
      "title                     THIRD-MEDIUM-TERM-PLAN-2018-2022\n",
      "url      https://www.treasury.go.ke/wp-content/uploads/...\n",
      "Name: 80, dtype: object\n"
     ]
    }
   ],
   "source": [
    "for idx, row in df.iterrows():\n",
    "    col = list(df.columns)\n",
    "    response = (\n",
    "        supabase.table(\"t-publications\")\n",
    "        .insert({col[0]: row.title, col[1]: row.url})\n",
    "        .execute()\n",
    "    )"
   ]
  },
  {
   "cell_type": "code",
   "execution_count": null,
   "id": "36532ee1-a676-42ea-880e-270a0c1bbd84",
   "metadata": {},
   "outputs": [],
   "source": []
  }
 ],
 "metadata": {
  "kernelspec": {
   "display_name": "Python 3 (ipykernel)",
   "language": "python",
   "name": "python3"
  },
  "language_info": {
   "codemirror_mode": {
    "name": "ipython",
    "version": 3
   },
   "file_extension": ".py",
   "mimetype": "text/x-python",
   "name": "python",
   "nbconvert_exporter": "python",
   "pygments_lexer": "ipython3",
   "version": "3.10.4"
  }
 },
 "nbformat": 4,
 "nbformat_minor": 5
}
